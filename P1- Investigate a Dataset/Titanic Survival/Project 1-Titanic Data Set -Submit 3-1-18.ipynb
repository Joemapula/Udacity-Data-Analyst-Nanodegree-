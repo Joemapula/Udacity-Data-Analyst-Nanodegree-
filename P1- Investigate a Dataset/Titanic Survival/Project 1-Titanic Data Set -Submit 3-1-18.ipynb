{
 "cells": [
  {
   "cell_type": "markdown",
   "metadata": {},
   "source": [
    "# Project 1: Titanic Dataset"
   ]
  },
  {
   "cell_type": "markdown",
   "metadata": {},
   "source": [
    "## Introduction"
   ]
  },
  {
   "cell_type": "markdown",
   "metadata": {},
   "source": [
    "The following is an analysis of the Titanic dataset provided via the Kaggle website for use in the Udacity Data Analyst Nanodegree. Additional descriptions can be found on the website, but the dataset consists of a csv file containing passenger information for those aboard the Titanic including ticket, demographic, and survival data per person.  \n",
    "\n",
    "This report includes the exploration of the general dataset and the investigation of the following 3 questions: \n",
    "\n",
    "    Question 1: Does sex help predict survival?\n",
    "\n",
    "    Question 2: As the saying goes, are women and children really first?\n",
    "\n",
    "    Question 3: If we group survivors and non-survivors into two different pools and examine them, will we find any differences? \n",
    "\n",
    "\n",
    "\n"
   ]
  },
  {
   "cell_type": "markdown",
   "metadata": {},
   "source": [
    "## Data Descriptions: https://www.kaggle.com/c/titanic/data\n",
    "\n",
    "Variable\tDefinition\tKey\n",
    "survival:\tSurvival\t0 = No, 1 = Yes\n",
    "pclass:\tTicket class\t1 = 1st, 2 = 2nd, 3 = 3rd\n",
    "sex:\tSex\t\n",
    "Age:\tAge in years\t\n",
    "sibsp:\t# of siblings / spouses aboard the Titanic\t\n",
    "parch:\t# of parents / children aboard the Titanic\t\n",
    "ticket:\tTicket number\t\n",
    "fare:\tPassenger fare\t\n",
    "cabin:\tCabin number\t\n",
    "embarked:\tPort of Embarkation\tC = Cherbourg, Q = Queenstown, S = Southampton"
   ]
  },
  {
   "cell_type": "markdown",
   "metadata": {},
   "source": [
    "## Variable Notes\n",
    "\n",
    "pclass: A proxy for socio-economic status (SES)\n",
    "1st = Upper\n",
    "2nd = Middle\n",
    "3rd = Lower\n",
    "\n",
    "age: Age is fractional if less than 1. If the age is estimated, is it in the form of xx.5\n",
    "\n",
    "sibsp: The dataset defines family relations in this way...\n",
    "Sibling = brother, sister, stepbrother, stepsister\n",
    "Spouse = husband, wife (mistresses and fiancés were ignored)\n",
    "\n",
    "parch: The dataset defines family relations in this way...\n",
    "Parent = mother, father\n",
    "Child = daughter, son, stepdaughter, stepson\n",
    "Some children travelled only with a nanny, therefore parch=0 for them."
   ]
  },
  {
   "cell_type": "code",
   "execution_count": 46,
   "metadata": {
    "collapsed": true
   },
   "outputs": [],
   "source": [
    "# Import relevant Libraries \n",
    "import matplotlib.pyplot as plt\n",
    "import numpy as np\n",
    "import pandas as pd\n",
    "import seaborn as sns\n",
    "%matplotlib inline"
   ]
  },
  {
   "cell_type": "markdown",
   "metadata": {},
   "source": [
    "## Data Wrangling"
   ]
  },
  {
   "cell_type": "markdown",
   "metadata": {},
   "source": [
    "### General Properties"
   ]
  },
  {
   "cell_type": "code",
   "execution_count": 47,
   "metadata": {
    "scrolled": true
   },
   "outputs": [
    {
     "name": "stdout",
     "output_type": "stream",
     "text": [
      "Length of all PassengerId's 891\n",
      "Length of unique PassengerId's 891\n",
      "Titanic Head Starts Here \n",
      "\n",
      "   PassengerId  Survived  Pclass  \\\n",
      "0            1         0       3   \n",
      "1            2         1       1   \n",
      "2            3         1       3   \n",
      "3            4         1       1   \n",
      "4            5         0       3   \n",
      "\n",
      "                                                Name     Sex   Age  SibSp  \\\n",
      "0                            Braund, Mr. Owen Harris    male  22.0      1   \n",
      "1  Cumings, Mrs. John Bradley (Florence Briggs Th...  female  38.0      1   \n",
      "2                             Heikkinen, Miss. Laina  female  26.0      0   \n",
      "3       Futrelle, Mrs. Jacques Heath (Lily May Peel)  female  35.0      1   \n",
      "4                           Allen, Mr. William Henry    male  35.0      0   \n",
      "\n",
      "   Parch            Ticket     Fare Cabin Embarked  \n",
      "0      0         A/5 21171   7.2500   NaN        S  \n",
      "1      0          PC 17599  71.2833   C85        C  \n",
      "2      0  STON/O2. 3101282   7.9250   NaN        S  \n",
      "3      0            113803  53.1000  C123        S  \n",
      "4      0            373450   8.0500   NaN        S  \n"
     ]
    }
   ],
   "source": [
    "#Read the CSV File in \n",
    "\n",
    "titanic = pd.read_csv('titanic-data.csv')\n",
    "lendata = len(titanic['PassengerId'].unique())\n",
    "\n",
    "print \"Length of all PassengerId's\", len(titanic['PassengerId'])\n",
    "print \"Length of unique PassengerId's\" , lendata\n",
    "print \"Titanic Head Starts Here \" \n",
    "print \"\" \n",
    "print titanic.head()\n",
    "                      "
   ]
  },
  {
   "cell_type": "code",
   "execution_count": 48,
   "metadata": {},
   "outputs": [
    {
     "name": "stdout",
     "output_type": "stream",
     "text": [
      "       PassengerId    Survived      Pclass         Age       SibSp  \\\n",
      "count   891.000000  891.000000  891.000000  714.000000  891.000000   \n",
      "mean    446.000000    0.383838    2.308642   29.699118    0.523008   \n",
      "std     257.353842    0.486592    0.836071   14.526497    1.102743   \n",
      "min       1.000000    0.000000    1.000000    0.420000    0.000000   \n",
      "25%     223.500000    0.000000    2.000000   20.125000    0.000000   \n",
      "50%     446.000000    0.000000    3.000000   28.000000    0.000000   \n",
      "75%     668.500000    1.000000    3.000000   38.000000    1.000000   \n",
      "max     891.000000    1.000000    3.000000   80.000000    8.000000   \n",
      "\n",
      "            Parch        Fare  \n",
      "count  891.000000  891.000000  \n",
      "mean     0.381594   32.204208  \n",
      "std      0.806057   49.693429  \n",
      "min      0.000000    0.000000  \n",
      "25%      0.000000    7.910400  \n",
      "50%      0.000000   14.454200  \n",
      "75%      0.000000   31.000000  \n",
      "max      6.000000  512.329200  \n"
     ]
    }
   ],
   "source": [
    "print titanic.describe()\n",
    "#age: Age is fractional if less than 1. If the age is estimated, is it in the form of xx.5\n"
   ]
  },
  {
   "cell_type": "markdown",
   "metadata": {},
   "source": [
    "Right away we can tell that part of the data is missing for Age and Cabin variables. \n",
    "\n",
    "Other than this, nothing seems to be completely off and there don't seem to be many outliers (though a large difference in Fares does seem to be of interest). All data exists for most variables.\n",
    "\n",
    "We'll investigate the fares first then the Age/Cabin data. "
   ]
  },
  {
   "cell_type": "code",
   "execution_count": 49,
   "metadata": {},
   "outputs": [
    {
     "data": {
      "text/plain": [
       "[<matplotlib.text.Text at 0x11e912310>,\n",
       " <matplotlib.text.Text at 0x11e8c4e10>,\n",
       " <matplotlib.text.Text at 0x11e72ea90>]"
      ]
     },
     "execution_count": 49,
     "metadata": {},
     "output_type": "execute_result"
    },
    {
     "data": {
      "image/png": "[encoded data removed]",
      "text/plain": [
       "<matplotlib.figure.Figure at 0x11e641410>"
      ]
     },
     "metadata": {},
     "output_type": "display_data"
    }
   ],
   "source": [
    "# What does the overall distribution of fares look like?\n",
    "#titanic['Fare'].hist(bins = 20)\n",
    "table = titanic['Fare']\n",
    "# plot \n",
    "ax = table.plot.hist(bins = 10 )\n",
    "ax.set(title= 'Fare frequency over all passengers', xlabel='Fare', ylabel= 'Count',)\n",
    "# Fix rotation in the x-ticks\n",
    "#ax.set_xticklabels(ax.get_xmajorticklabels());\n",
    "\n",
    "\n",
    "\n"
   ]
  },
  {
   "cell_type": "markdown",
   "metadata": {},
   "source": [
    "From the above we can see that most passengers paid under $100 for their tickets but a few paid much more. Are these a mistake? What happens if we look further?"
   ]
  },
  {
   "cell_type": "code",
   "execution_count": 50,
   "metadata": {},
   "outputs": [
    {
     "name": "stdout",
     "output_type": "stream",
     "text": [
      "maxfare:  512.3292\n",
      "maxfareloc:  258\n",
      "maxfareinfo: \n",
      "\n",
      "     PassengerId  Survived  Pclass              Name     Sex   Age  SibSp  \\\n",
      "258          259         1       1  Ward, Miss. Anna  female  35.0      0   \n",
      "\n",
      "     Parch    Ticket      Fare Cabin Embarked  \n",
      "258      0  PC 17755  512.3292   NaN        C  \n",
      "\n",
      "Passengers with most expensive tickets:  \n",
      "     PassengerId  Survived  Pclass                                Name  \\\n",
      "258          259         1       1                    Ward, Miss. Anna   \n",
      "679          680         1       1  Cardeza, Mr. Thomas Drake Martinez   \n",
      "737          738         1       1              Lesurer, Mr. Gustave J   \n",
      "\n",
      "        Sex   Age  SibSp  Parch    Ticket      Fare        Cabin Embarked  \n",
      "258  female  35.0      0      0  PC 17755  512.3292          NaN        C  \n",
      "679    male  36.0      0      1  PC 17755  512.3292  B51 B53 B55        C  \n",
      "737    male  35.0      0      0  PC 17755  512.3292         B101        C  \n"
     ]
    }
   ],
   "source": [
    "# What is the max fare paid and who paid it? \n",
    "maxfare = titanic['Fare'].max()\n",
    "maxfareloc = titanic['Fare'].argmax()\n",
    "maxfareinfo = titanic.loc[[titanic['Fare'].argmax()]]\n",
    "maxfareticketno = maxfareinfo['Ticket'][maxfareloc]\n",
    "someoneoverpaid = titanic[titanic['Ticket'] == maxfareticketno]\n",
    "\n",
    "print \"maxfare: \", maxfare\n",
    "print \"maxfareloc: \", maxfareloc\n",
    "print \"maxfareinfo: \" \n",
    "print \"\"\n",
    "print maxfareinfo\n",
    "print \"\"\n",
    "\n",
    "print \"Passengers with most expensive tickets: \", \n",
    "print \"\" \n",
    "print titanic[titanic['Ticket'] == maxfareticketno]\n",
    "\n"
   ]
  },
  {
   "cell_type": "markdown",
   "metadata": {},
   "source": [
    "From the above, we can see that there were a few passengers who paid the expensive fare. After a quick google search, it seems that their fares were in fact $512. We can leave these as is and continue our investigation. \n",
    "\n",
    "Resource: \n",
    "https://www.encyclopedia-titanica.org/titanic-survivor/annie-moore-ward.html\n"
   ]
  },
  {
   "cell_type": "markdown",
   "metadata": {},
   "source": [
    "Now, we can resume our investigation into the missing data for the Age and Cabin variables. \n",
    "\n",
    "The number of passenger IDs we have is 891, but the count for Age is only 714. \n",
    "\n",
    "Is there a reason many of the Ages and Cabin identifications are missing? How many values are missing? \n"
   ]
  },
  {
   "cell_type": "code",
   "execution_count": 51,
   "metadata": {},
   "outputs": [
    {
     "name": "stdout",
     "output_type": "stream",
     "text": [
      "Age Nulls\n",
      "\n",
      "Age\n",
      "False    714\n",
      "True     177\n",
      "dtype: int64\n",
      "\n",
      "Cabin Nulls\n",
      "\n",
      "Cabin\n",
      "False    204\n",
      "True     687\n",
      "dtype: int64\n"
     ]
    }
   ],
   "source": [
    "print \"Age Nulls\"\n",
    "print \"\"\n",
    "print titanic.isnull().groupby('Age').apply(len)\n",
    "print \"\"\n",
    "print \"Cabin Nulls\"\n",
    "print \"\"\n",
    "print titanic.isnull().groupby('Cabin').apply(len)"
   ]
  },
  {
   "cell_type": "markdown",
   "metadata": {},
   "source": [
    "It appears that most of the Cabin data is missing, and a sizable portion of the Age data is missing as well. This may be due to cabin assignment aboard the Titanic and processes put in place to record/obtain this data. \n",
    "\n",
    "What happens if we take a high-level look at the two null sets in comparison with the overall data?"
   ]
  },
  {
   "cell_type": "code",
   "execution_count": 52,
   "metadata": {},
   "outputs": [
    {
     "name": "stdout",
     "output_type": "stream",
     "text": [
      "All Data\n",
      "\n",
      "       PassengerId    Survived      Pclass         Age       SibSp  \\\n",
      "count   891.000000  891.000000  891.000000  714.000000  891.000000   \n",
      "mean    446.000000    0.383838    2.308642   29.699118    0.523008   \n",
      "std     257.353842    0.486592    0.836071   14.526497    1.102743   \n",
      "min       1.000000    0.000000    1.000000    0.420000    0.000000   \n",
      "25%     223.500000    0.000000    2.000000   20.125000    0.000000   \n",
      "50%     446.000000    0.000000    3.000000   28.000000    0.000000   \n",
      "75%     668.500000    1.000000    3.000000   38.000000    1.000000   \n",
      "max     891.000000    1.000000    3.000000   80.000000    8.000000   \n",
      "\n",
      "            Parch        Fare  \n",
      "count  891.000000  891.000000  \n",
      "mean     0.381594   32.204208  \n",
      "std      0.806057   49.693429  \n",
      "min      0.000000    0.000000  \n",
      "25%      0.000000    7.910400  \n",
      "50%      0.000000   14.454200  \n",
      "75%      0.000000   31.000000  \n",
      "max      6.000000  512.329200  \n",
      "\n",
      "Age Nulls\n",
      "\n",
      "       PassengerId    Survived      Pclass  Age       SibSp       Parch  \\\n",
      "count   177.000000  177.000000  177.000000  0.0  177.000000  177.000000   \n",
      "mean    435.581921    0.293785    2.598870  NaN    0.564972    0.180791   \n",
      "std     250.552901    0.456787    0.763216  NaN    1.626316    0.534145   \n",
      "min       6.000000    0.000000    1.000000  NaN    0.000000    0.000000   \n",
      "25%     230.000000    0.000000    3.000000  NaN    0.000000    0.000000   \n",
      "50%     452.000000    0.000000    3.000000  NaN    0.000000    0.000000   \n",
      "75%     634.000000    1.000000    3.000000  NaN    0.000000    0.000000   \n",
      "max     889.000000    1.000000    3.000000  NaN    8.000000    2.000000   \n",
      "\n",
      "             Fare  \n",
      "count  177.000000  \n",
      "mean    22.158567  \n",
      "std     31.874608  \n",
      "min      0.000000  \n",
      "25%      7.750000  \n",
      "50%      8.050000  \n",
      "75%     24.150000  \n",
      "max    227.525000  \n",
      "\n",
      "Cabin Nulls\n",
      "\n",
      "       PassengerId    Survived      Pclass         Age       SibSp  \\\n",
      "count   687.000000  687.000000  687.000000  529.000000  687.000000   \n",
      "mean    443.208151    0.299854    2.639010   27.555293    0.547307   \n",
      "std     259.215905    0.458528    0.589602   13.472634    1.207492   \n",
      "min       1.000000    0.000000    1.000000    0.420000    0.000000   \n",
      "25%     214.500000    0.000000    2.000000   19.000000    0.000000   \n",
      "50%     441.000000    0.000000    3.000000   26.000000    0.000000   \n",
      "75%     664.500000    1.000000    3.000000   35.000000    1.000000   \n",
      "max     891.000000    1.000000    3.000000   74.000000    8.000000   \n",
      "\n",
      "            Parch        Fare  \n",
      "count  687.000000  687.000000  \n",
      "mean     0.365357   19.157325  \n",
      "std      0.827106   28.663343  \n",
      "min      0.000000    0.000000  \n",
      "25%      0.000000    7.877100  \n",
      "50%      0.000000   10.500000  \n",
      "75%      0.000000   23.000000  \n",
      "max      6.000000  512.329200  \n"
     ]
    }
   ],
   "source": [
    "print \"All Data\" \n",
    "print \"\"\n",
    "print titanic.describe()\n",
    "print \"\"\n",
    "print \"Age Nulls\" \n",
    "print \"\" \n",
    "print titanic[titanic['Age'].isnull()].describe()\n",
    "print \"\"\n",
    "print \"Cabin Nulls\" \n",
    "print \"\" \n",
    "print titanic[titanic['Cabin'].isnull()].describe()"
   ]
  },
  {
   "cell_type": "markdown",
   "metadata": {},
   "source": [
    "It seems that both sets of nulls may have a lower rate of survival and lower fare means, but nothing seems as if the nulls have a systematic consistency to them. We don't know too much about how/when the data points were recorded so we can't say for sure. \n",
    "\n",
    "What if we look at the individual observations?"
   ]
  },
  {
   "cell_type": "code",
   "execution_count": 53,
   "metadata": {},
   "outputs": [
    {
     "name": "stdout",
     "output_type": "stream",
     "text": [
      "     PassengerId  Survived  Pclass  \\\n",
      "5              6         0       3   \n",
      "17            18         1       2   \n",
      "19            20         1       3   \n",
      "26            27         0       3   \n",
      "28            29         1       3   \n",
      "29            30         0       3   \n",
      "31            32         1       1   \n",
      "32            33         1       3   \n",
      "36            37         1       3   \n",
      "42            43         0       3   \n",
      "45            46         0       3   \n",
      "46            47         0       3   \n",
      "47            48         1       3   \n",
      "48            49         0       3   \n",
      "55            56         1       1   \n",
      "64            65         0       1   \n",
      "65            66         1       3   \n",
      "76            77         0       3   \n",
      "77            78         0       3   \n",
      "82            83         1       3   \n",
      "87            88         0       3   \n",
      "95            96         0       3   \n",
      "101          102         0       3   \n",
      "107          108         1       3   \n",
      "109          110         1       3   \n",
      "121          122         0       3   \n",
      "126          127         0       3   \n",
      "128          129         1       3   \n",
      "140          141         0       3   \n",
      "154          155         0       3   \n",
      "..           ...       ...     ...   \n",
      "718          719         0       3   \n",
      "727          728         1       3   \n",
      "732          733         0       2   \n",
      "738          739         0       3   \n",
      "739          740         0       3   \n",
      "740          741         1       1   \n",
      "760          761         0       3   \n",
      "766          767         0       1   \n",
      "768          769         0       3   \n",
      "773          774         0       3   \n",
      "776          777         0       3   \n",
      "778          779         0       3   \n",
      "783          784         0       3   \n",
      "790          791         0       3   \n",
      "792          793         0       3   \n",
      "793          794         0       1   \n",
      "815          816         0       1   \n",
      "825          826         0       3   \n",
      "826          827         0       3   \n",
      "828          829         1       3   \n",
      "832          833         0       3   \n",
      "837          838         0       3   \n",
      "839          840         1       1   \n",
      "846          847         0       3   \n",
      "849          850         1       1   \n",
      "859          860         0       3   \n",
      "863          864         0       3   \n",
      "868          869         0       3   \n",
      "878          879         0       3   \n",
      "888          889         0       3   \n",
      "\n",
      "                                               Name     Sex  Age  SibSp  \\\n",
      "5                                  Moran, Mr. James    male  NaN      0   \n",
      "17                     Williams, Mr. Charles Eugene    male  NaN      0   \n",
      "19                          Masselmani, Mrs. Fatima  female  NaN      0   \n",
      "26                          Emir, Mr. Farred Chehab    male  NaN      0   \n",
      "28                    O'Dwyer, Miss. Ellen \"Nellie\"  female  NaN      0   \n",
      "29                              Todoroff, Mr. Lalio    male  NaN      0   \n",
      "31   Spencer, Mrs. William Augustus (Marie Eugenie)  female  NaN      1   \n",
      "32                         Glynn, Miss. Mary Agatha  female  NaN      0   \n",
      "36                                 Mamee, Mr. Hanna    male  NaN      0   \n",
      "42                              Kraeff, Mr. Theodor    male  NaN      0   \n",
      "45                         Rogers, Mr. William John    male  NaN      0   \n",
      "46                                Lennon, Mr. Denis    male  NaN      1   \n",
      "47                        O'Driscoll, Miss. Bridget  female  NaN      0   \n",
      "48                              Samaan, Mr. Youssef    male  NaN      2   \n",
      "55                                Woolner, Mr. Hugh    male  NaN      0   \n",
      "64                            Stewart, Mr. Albert A    male  NaN      0   \n",
      "65                         Moubarek, Master. Gerios    male  NaN      1   \n",
      "76                                Staneff, Mr. Ivan    male  NaN      0   \n",
      "77                         Moutal, Mr. Rahamin Haim    male  NaN      0   \n",
      "82                   McDermott, Miss. Brigdet Delia  female  NaN      0   \n",
      "87                    Slocovski, Mr. Selman Francis    male  NaN      0   \n",
      "95                      Shorney, Mr. Charles Joseph    male  NaN      0   \n",
      "101                Petroff, Mr. Pastcho (\"Pentcho\")    male  NaN      0   \n",
      "107                          Moss, Mr. Albert Johan    male  NaN      0   \n",
      "109                             Moran, Miss. Bertha  female  NaN      1   \n",
      "121                      Moore, Mr. Leonard Charles    male  NaN      0   \n",
      "126                             McMahon, Mr. Martin    male  NaN      0   \n",
      "128                               Peter, Miss. Anna  female  NaN      1   \n",
      "140                   Boulos, Mrs. Joseph (Sultana)  female  NaN      0   \n",
      "154                           Olsen, Mr. Ole Martin    male  NaN      0   \n",
      "..                                              ...     ...  ...    ...   \n",
      "718                             McEvoy, Mr. Michael    male  NaN      0   \n",
      "727                        Mannion, Miss. Margareth  female  NaN      0   \n",
      "732                            Knight, Mr. Robert J    male  NaN      0   \n",
      "738                              Ivanoff, Mr. Kanio    male  NaN      0   \n",
      "739                              Nankoff, Mr. Minko    male  NaN      0   \n",
      "740                     Hawksford, Mr. Walter James    male  NaN      0   \n",
      "760                              Garfirth, Mr. John    male  NaN      0   \n",
      "766                       Brewe, Dr. Arthur Jackson    male  NaN      0   \n",
      "768                             Moran, Mr. Daniel J    male  NaN      1   \n",
      "773                                 Elias, Mr. Dibo    male  NaN      0   \n",
      "776                                Tobin, Mr. Roger    male  NaN      0   \n",
      "778                         Kilgannon, Mr. Thomas J    male  NaN      0   \n",
      "783                          Johnston, Mr. Andrew G    male  NaN      1   \n",
      "790                        Keane, Mr. Andrew \"Andy\"    male  NaN      0   \n",
      "792                         Sage, Miss. Stella Anna  female  NaN      8   \n",
      "793                        Hoyt, Mr. William Fisher    male  NaN      0   \n",
      "815                                Fry, Mr. Richard    male  NaN      0   \n",
      "825                                 Flynn, Mr. John    male  NaN      0   \n",
      "826                                    Lam, Mr. Len    male  NaN      0   \n",
      "828                    McCormack, Mr. Thomas Joseph    male  NaN      0   \n",
      "832                                  Saad, Mr. Amin    male  NaN      0   \n",
      "837                             Sirota, Mr. Maurice    male  NaN      0   \n",
      "839                            Marechal, Mr. Pierre    male  NaN      0   \n",
      "846                        Sage, Mr. Douglas Bullen    male  NaN      8   \n",
      "849    Goldenberg, Mrs. Samuel L (Edwiga Grabowska)  female  NaN      1   \n",
      "859                                Razi, Mr. Raihed    male  NaN      0   \n",
      "863               Sage, Miss. Dorothy Edith \"Dolly\"  female  NaN      8   \n",
      "868                     van Melkebeke, Mr. Philemon    male  NaN      0   \n",
      "878                              Laleff, Mr. Kristo    male  NaN      0   \n",
      "888        Johnston, Miss. Catherine Helen \"Carrie\"  female  NaN      1   \n",
      "\n",
      "     Parch           Ticket      Fare  Cabin Embarked  \n",
      "5        0           330877    8.4583    NaN        Q  \n",
      "17       0           244373   13.0000    NaN        S  \n",
      "19       0             2649    7.2250    NaN        C  \n",
      "26       0             2631    7.2250    NaN        C  \n",
      "28       0           330959    7.8792    NaN        Q  \n",
      "29       0           349216    7.8958    NaN        S  \n",
      "31       0         PC 17569  146.5208    B78        C  \n",
      "32       0           335677    7.7500    NaN        Q  \n",
      "36       0             2677    7.2292    NaN        C  \n",
      "42       0           349253    7.8958    NaN        C  \n",
      "45       0  S.C./A.4. 23567    8.0500    NaN        S  \n",
      "46       0           370371   15.5000    NaN        Q  \n",
      "47       0            14311    7.7500    NaN        Q  \n",
      "48       0             2662   21.6792    NaN        C  \n",
      "55       0            19947   35.5000    C52        S  \n",
      "64       0         PC 17605   27.7208    NaN        C  \n",
      "65       1             2661   15.2458    NaN        C  \n",
      "76       0           349208    7.8958    NaN        S  \n",
      "77       0           374746    8.0500    NaN        S  \n",
      "82       0           330932    7.7875    NaN        Q  \n",
      "87       0  SOTON/OQ 392086    8.0500    NaN        S  \n",
      "95       0           374910    8.0500    NaN        S  \n",
      "101      0           349215    7.8958    NaN        S  \n",
      "107      0           312991    7.7750    NaN        S  \n",
      "109      0           371110   24.1500    NaN        Q  \n",
      "121      0        A4. 54510    8.0500    NaN        S  \n",
      "126      0           370372    7.7500    NaN        Q  \n",
      "128      1             2668   22.3583  F E69        C  \n",
      "140      2             2678   15.2458    NaN        C  \n",
      "154      0        Fa 265302    7.3125    NaN        S  \n",
      "..     ...              ...       ...    ...      ...  \n",
      "718      0            36568   15.5000    NaN        Q  \n",
      "727      0            36866    7.7375    NaN        Q  \n",
      "732      0           239855    0.0000    NaN        S  \n",
      "738      0           349201    7.8958    NaN        S  \n",
      "739      0           349218    7.8958    NaN        S  \n",
      "740      0            16988   30.0000    D45        S  \n",
      "760      0           358585   14.5000    NaN        S  \n",
      "766      0           112379   39.6000    NaN        C  \n",
      "768      0           371110   24.1500    NaN        Q  \n",
      "773      0             2674    7.2250    NaN        C  \n",
      "776      0           383121    7.7500    F38        Q  \n",
      "778      0            36865    7.7375    NaN        Q  \n",
      "783      2       W./C. 6607   23.4500    NaN        S  \n",
      "790      0            12460    7.7500    NaN        Q  \n",
      "792      2         CA. 2343   69.5500    NaN        S  \n",
      "793      0         PC 17600   30.6958    NaN        C  \n",
      "815      0           112058    0.0000   B102        S  \n",
      "825      0           368323    6.9500    NaN        Q  \n",
      "826      0             1601   56.4958    NaN        S  \n",
      "828      0           367228    7.7500    NaN        Q  \n",
      "832      0             2671    7.2292    NaN        C  \n",
      "837      0           392092    8.0500    NaN        S  \n",
      "839      0            11774   29.7000    C47        C  \n",
      "846      2         CA. 2343   69.5500    NaN        S  \n",
      "849      0            17453   89.1042    C92        C  \n",
      "859      0             2629    7.2292    NaN        C  \n",
      "863      2         CA. 2343   69.5500    NaN        S  \n",
      "868      0           345777    9.5000    NaN        S  \n",
      "878      0           349217    7.8958    NaN        S  \n",
      "888      2       W./C. 6607   23.4500    NaN        S  \n",
      "\n",
      "[177 rows x 12 columns]\n"
     ]
    }
   ],
   "source": [
    "print titanic[titanic['Age'].isnull()]\n"
   ]
  },
  {
   "cell_type": "code",
   "execution_count": 54,
   "metadata": {},
   "outputs": [
    {
     "name": "stdout",
     "output_type": "stream",
     "text": [
      "     PassengerId  Survived  Pclass  \\\n",
      "0              1         0       3   \n",
      "2              3         1       3   \n",
      "4              5         0       3   \n",
      "5              6         0       3   \n",
      "7              8         0       3   \n",
      "8              9         1       3   \n",
      "9             10         1       2   \n",
      "12            13         0       3   \n",
      "13            14         0       3   \n",
      "14            15         0       3   \n",
      "15            16         1       2   \n",
      "16            17         0       3   \n",
      "17            18         1       2   \n",
      "18            19         0       3   \n",
      "19            20         1       3   \n",
      "20            21         0       2   \n",
      "22            23         1       3   \n",
      "24            25         0       3   \n",
      "25            26         1       3   \n",
      "26            27         0       3   \n",
      "28            29         1       3   \n",
      "29            30         0       3   \n",
      "30            31         0       1   \n",
      "32            33         1       3   \n",
      "33            34         0       2   \n",
      "34            35         0       1   \n",
      "35            36         0       1   \n",
      "36            37         1       3   \n",
      "37            38         0       3   \n",
      "38            39         0       3   \n",
      "..           ...       ...     ...   \n",
      "852          853         0       3   \n",
      "854          855         0       2   \n",
      "855          856         1       3   \n",
      "856          857         1       1   \n",
      "858          859         1       3   \n",
      "859          860         0       3   \n",
      "860          861         0       3   \n",
      "861          862         0       2   \n",
      "863          864         0       3   \n",
      "864          865         0       2   \n",
      "865          866         1       2   \n",
      "866          867         1       2   \n",
      "868          869         0       3   \n",
      "869          870         1       3   \n",
      "870          871         0       3   \n",
      "873          874         0       3   \n",
      "874          875         1       2   \n",
      "875          876         1       3   \n",
      "876          877         0       3   \n",
      "877          878         0       3   \n",
      "878          879         0       3   \n",
      "880          881         1       2   \n",
      "881          882         0       3   \n",
      "882          883         0       3   \n",
      "883          884         0       2   \n",
      "884          885         0       3   \n",
      "885          886         0       3   \n",
      "886          887         0       2   \n",
      "888          889         0       3   \n",
      "890          891         0       3   \n",
      "\n",
      "                                                  Name     Sex   Age  SibSp  \\\n",
      "0                              Braund, Mr. Owen Harris    male  22.0      1   \n",
      "2                               Heikkinen, Miss. Laina  female  26.0      0   \n",
      "4                             Allen, Mr. William Henry    male  35.0      0   \n",
      "5                                     Moran, Mr. James    male   NaN      0   \n",
      "7                       Palsson, Master. Gosta Leonard    male   2.0      3   \n",
      "8    Johnson, Mrs. Oscar W (Elisabeth Vilhelmina Berg)  female  27.0      0   \n",
      "9                  Nasser, Mrs. Nicholas (Adele Achem)  female  14.0      1   \n",
      "12                      Saundercock, Mr. William Henry    male  20.0      0   \n",
      "13                         Andersson, Mr. Anders Johan    male  39.0      1   \n",
      "14                Vestrom, Miss. Hulda Amanda Adolfina  female  14.0      0   \n",
      "15                    Hewlett, Mrs. (Mary D Kingcome)   female  55.0      0   \n",
      "16                                Rice, Master. Eugene    male   2.0      4   \n",
      "17                        Williams, Mr. Charles Eugene    male   NaN      0   \n",
      "18   Vander Planke, Mrs. Julius (Emelia Maria Vande...  female  31.0      1   \n",
      "19                             Masselmani, Mrs. Fatima  female   NaN      0   \n",
      "20                                Fynney, Mr. Joseph J    male  35.0      0   \n",
      "22                         McGowan, Miss. Anna \"Annie\"  female  15.0      0   \n",
      "24                       Palsson, Miss. Torborg Danira  female   8.0      3   \n",
      "25   Asplund, Mrs. Carl Oscar (Selma Augusta Emilia...  female  38.0      1   \n",
      "26                             Emir, Mr. Farred Chehab    male   NaN      0   \n",
      "28                       O'Dwyer, Miss. Ellen \"Nellie\"  female   NaN      0   \n",
      "29                                 Todoroff, Mr. Lalio    male   NaN      0   \n",
      "30                            Uruchurtu, Don. Manuel E    male  40.0      0   \n",
      "32                            Glynn, Miss. Mary Agatha  female   NaN      0   \n",
      "33                               Wheadon, Mr. Edward H    male  66.0      0   \n",
      "34                             Meyer, Mr. Edgar Joseph    male  28.0      1   \n",
      "35                      Holverson, Mr. Alexander Oskar    male  42.0      1   \n",
      "36                                    Mamee, Mr. Hanna    male   NaN      0   \n",
      "37                            Cann, Mr. Ernest Charles    male  21.0      0   \n",
      "38                  Vander Planke, Miss. Augusta Maria  female  18.0      2   \n",
      "..                                                 ...     ...   ...    ...   \n",
      "852                            Boulos, Miss. Nourelain  female   9.0      1   \n",
      "854      Carter, Mrs. Ernest Courtenay (Lilian Hughes)  female  44.0      1   \n",
      "855                         Aks, Mrs. Sam (Leah Rosen)  female  18.0      0   \n",
      "856         Wick, Mrs. George Dennick (Mary Hitchcock)  female  45.0      1   \n",
      "858              Baclini, Mrs. Solomon (Latifa Qurban)  female  24.0      0   \n",
      "859                                   Razi, Mr. Raihed    male   NaN      0   \n",
      "860                            Hansen, Mr. Claus Peter    male  41.0      2   \n",
      "861                        Giles, Mr. Frederick Edward    male  21.0      1   \n",
      "863                  Sage, Miss. Dorothy Edith \"Dolly\"  female   NaN      8   \n",
      "864                             Gill, Mr. John William    male  24.0      0   \n",
      "865                           Bystrom, Mrs. (Karolina)  female  42.0      0   \n",
      "866                       Duran y More, Miss. Asuncion  female  27.0      1   \n",
      "868                        van Melkebeke, Mr. Philemon    male   NaN      0   \n",
      "869                    Johnson, Master. Harold Theodor    male   4.0      1   \n",
      "870                                  Balkic, Mr. Cerin    male  26.0      0   \n",
      "873                        Vander Cruyssen, Mr. Victor    male  47.0      0   \n",
      "874              Abelson, Mrs. Samuel (Hannah Wizosky)  female  28.0      1   \n",
      "875                   Najib, Miss. Adele Kiamie \"Jane\"  female  15.0      0   \n",
      "876                      Gustafsson, Mr. Alfred Ossian    male  20.0      0   \n",
      "877                               Petroff, Mr. Nedelio    male  19.0      0   \n",
      "878                                 Laleff, Mr. Kristo    male   NaN      0   \n",
      "880       Shelley, Mrs. William (Imanita Parrish Hall)  female  25.0      0   \n",
      "881                                 Markun, Mr. Johann    male  33.0      0   \n",
      "882                       Dahlberg, Miss. Gerda Ulrika  female  22.0      0   \n",
      "883                      Banfield, Mr. Frederick James    male  28.0      0   \n",
      "884                             Sutehall, Mr. Henry Jr    male  25.0      0   \n",
      "885               Rice, Mrs. William (Margaret Norton)  female  39.0      0   \n",
      "886                              Montvila, Rev. Juozas    male  27.0      0   \n",
      "888           Johnston, Miss. Catherine Helen \"Carrie\"  female   NaN      1   \n",
      "890                                Dooley, Mr. Patrick    male  32.0      0   \n",
      "\n",
      "     Parch            Ticket      Fare Cabin Embarked  \n",
      "0        0         A/5 21171    7.2500   NaN        S  \n",
      "2        0  STON/O2. 3101282    7.9250   NaN        S  \n",
      "4        0            373450    8.0500   NaN        S  \n",
      "5        0            330877    8.4583   NaN        Q  \n",
      "7        1            349909   21.0750   NaN        S  \n",
      "8        2            347742   11.1333   NaN        S  \n",
      "9        0            237736   30.0708   NaN        C  \n",
      "12       0         A/5. 2151    8.0500   NaN        S  \n",
      "13       5            347082   31.2750   NaN        S  \n",
      "14       0            350406    7.8542   NaN        S  \n",
      "15       0            248706   16.0000   NaN        S  \n",
      "16       1            382652   29.1250   NaN        Q  \n",
      "17       0            244373   13.0000   NaN        S  \n",
      "18       0            345763   18.0000   NaN        S  \n",
      "19       0              2649    7.2250   NaN        C  \n",
      "20       0            239865   26.0000   NaN        S  \n",
      "22       0            330923    8.0292   NaN        Q  \n",
      "24       1            349909   21.0750   NaN        S  \n",
      "25       5            347077   31.3875   NaN        S  \n",
      "26       0              2631    7.2250   NaN        C  \n",
      "28       0            330959    7.8792   NaN        Q  \n",
      "29       0            349216    7.8958   NaN        S  \n",
      "30       0          PC 17601   27.7208   NaN        C  \n",
      "32       0            335677    7.7500   NaN        Q  \n",
      "33       0        C.A. 24579   10.5000   NaN        S  \n",
      "34       0          PC 17604   82.1708   NaN        C  \n",
      "35       0            113789   52.0000   NaN        S  \n",
      "36       0              2677    7.2292   NaN        C  \n",
      "37       0        A./5. 2152    8.0500   NaN        S  \n",
      "38       0            345764   18.0000   NaN        S  \n",
      "..     ...               ...       ...   ...      ...  \n",
      "852      1              2678   15.2458   NaN        C  \n",
      "854      0            244252   26.0000   NaN        S  \n",
      "855      1            392091    9.3500   NaN        S  \n",
      "856      1             36928  164.8667   NaN        S  \n",
      "858      3              2666   19.2583   NaN        C  \n",
      "859      0              2629    7.2292   NaN        C  \n",
      "860      0            350026   14.1083   NaN        S  \n",
      "861      0             28134   11.5000   NaN        S  \n",
      "863      2          CA. 2343   69.5500   NaN        S  \n",
      "864      0            233866   13.0000   NaN        S  \n",
      "865      0            236852   13.0000   NaN        S  \n",
      "866      0     SC/PARIS 2149   13.8583   NaN        C  \n",
      "868      0            345777    9.5000   NaN        S  \n",
      "869      1            347742   11.1333   NaN        S  \n",
      "870      0            349248    7.8958   NaN        S  \n",
      "873      0            345765    9.0000   NaN        S  \n",
      "874      0         P/PP 3381   24.0000   NaN        C  \n",
      "875      0              2667    7.2250   NaN        C  \n",
      "876      0              7534    9.8458   NaN        S  \n",
      "877      0            349212    7.8958   NaN        S  \n",
      "878      0            349217    7.8958   NaN        S  \n",
      "880      1            230433   26.0000   NaN        S  \n",
      "881      0            349257    7.8958   NaN        S  \n",
      "882      0              7552   10.5167   NaN        S  \n",
      "883      0  C.A./SOTON 34068   10.5000   NaN        S  \n",
      "884      0   SOTON/OQ 392076    7.0500   NaN        S  \n",
      "885      5            382652   29.1250   NaN        Q  \n",
      "886      0            211536   13.0000   NaN        S  \n",
      "888      2        W./C. 6607   23.4500   NaN        S  \n",
      "890      0            370376    7.7500   NaN        Q  \n",
      "\n",
      "[687 rows x 12 columns]\n"
     ]
    }
   ],
   "source": [
    "print titanic[titanic['Cabin'].isnull()]"
   ]
  },
  {
   "cell_type": "markdown",
   "metadata": {},
   "source": [
    "I found nothing concerning or consistent in examining the above data sets of nulls. This leads me to believe that we may choose to discard the data or continue using without harm to our analyses. Because our pandas will treat the NaN values as 0s, we can safely continue the rest of our analysis for now. "
   ]
  },
  {
   "cell_type": "markdown",
   "metadata": {},
   "source": [
    "### Data Cleaning\n",
    "\n",
    "For our current purpose of investigating the Dataset, we will choose to move forward with the data as is. NaN values will be treated as 0 and will not contribute to the statistics to be computed. However, within those observations for which a variable has a NaN value, other variables that are recorded will still be taken into account. i.e. if age is missing, we can still use their fare value since that is still likely to be accurate. "
   ]
  },
  {
   "cell_type": "markdown",
   "metadata": {},
   "source": [
    "# Data Exploration: "
   ]
  },
  {
   "cell_type": "markdown",
   "metadata": {},
   "source": [
    "## General Exploration"
   ]
  },
  {
   "cell_type": "code",
   "execution_count": 55,
   "metadata": {},
   "outputs": [
    {
     "name": "stdout",
     "output_type": "stream",
     "text": [
      "count    714.000000\n",
      "mean      29.699118\n",
      "std       14.526497\n",
      "min        0.420000\n",
      "25%       20.125000\n",
      "50%       28.000000\n",
      "75%       38.000000\n",
      "max       80.000000\n",
      "Name: Age, dtype: float64\n",
      "\n"
     ]
    },
    {
     "data": {
      "text/plain": [
       "[<matplotlib.text.Text at 0x11e92b990>,\n",
       " <matplotlib.text.Text at 0x11e917b90>,\n",
       " <matplotlib.text.Text at 0x11e9be8d0>]"
      ]
     },
     "execution_count": 55,
     "metadata": {},
     "output_type": "execute_result"
    },
    {
     "data": {
      "image/png": "[encoded data removed]",
      "text/plain": [
       "<matplotlib.figure.Figure at 0x11e69ff90>"
      ]
     },
     "metadata": {},
     "output_type": "display_data"
    }
   ],
   "source": [
    "#Start Exploring the data \n",
    "#What is the general makeup of the Titanic passengers? \n",
    "\n",
    "print titanic['Age'].describe()\n",
    "#Note on age: Age is fractional if less than 1. If the age is estimated, is it in the form of xx.5\n",
    "print \"\"\n",
    "\n",
    "#titanic.hist(['Age'], bins= 40)\n",
    "table = titanic['Age']\n",
    "# plot \n",
    "ax = table.plot.hist(bins = 40 )\n",
    "ax.set(title= 'Age distribution of all passengers', xlabel='Age', ylabel= 'Count',)\n",
    "# Fix rotation in the x-ticks\n",
    "#ax.set_xticklabels(ax.get_xmajorticklabels());\n",
    "\n",
    "\n"
   ]
  },
  {
   "cell_type": "code",
   "execution_count": 56,
   "metadata": {
    "collapsed": true
   },
   "outputs": [],
   "source": [
    "# Population seems to be mostly comprised of adults age 18-40 \n",
    "# There are a fair number of children and persons above age 50 as well \n",
    "# What does the overall data look like?"
   ]
  },
  {
   "cell_type": "code",
   "execution_count": 57,
   "metadata": {},
   "outputs": [
    {
     "name": "stdout",
     "output_type": "stream",
     "text": [
      "       PassengerId    Survived      Pclass         Age       SibSp  \\\n",
      "count   891.000000  891.000000  891.000000  714.000000  891.000000   \n",
      "mean    446.000000    0.383838    2.308642   29.699118    0.523008   \n",
      "std     257.353842    0.486592    0.836071   14.526497    1.102743   \n",
      "min       1.000000    0.000000    1.000000    0.420000    0.000000   \n",
      "25%     223.500000    0.000000    2.000000   20.125000    0.000000   \n",
      "50%     446.000000    0.000000    3.000000   28.000000    0.000000   \n",
      "75%     668.500000    1.000000    3.000000   38.000000    1.000000   \n",
      "max     891.000000    1.000000    3.000000   80.000000    8.000000   \n",
      "\n",
      "            Parch        Fare  \n",
      "count  891.000000  891.000000  \n",
      "mean     0.381594   32.204208  \n",
      "std      0.806057   49.693429  \n",
      "min      0.000000    0.000000  \n",
      "25%      0.000000    7.910400  \n",
      "50%      0.000000   14.454200  \n",
      "75%      0.000000   31.000000  \n",
      "max      6.000000  512.329200  \n"
     ]
    }
   ],
   "source": [
    "print titanic.describe()\n",
    "#age: Age is fractional if less than 1. If the age is estimated, is it in the form of xx.5\n"
   ]
  },
  {
   "cell_type": "code",
   "execution_count": 58,
   "metadata": {
    "collapsed": true
   },
   "outputs": [],
   "source": [
    "# Seems legit...though we did look at this earlier \n",
    "# titanic.groupby('Survived').describe()\n",
    "# What if we look at how many people survived?"
   ]
  },
  {
   "cell_type": "code",
   "execution_count": 59,
   "metadata": {},
   "outputs": [
    {
     "data": {
      "image/png": "[encoded data removed]",
      "text/plain": [
       "<matplotlib.figure.Figure at 0x11de9ac90>"
      ]
     },
     "metadata": {},
     "output_type": "display_data"
    }
   ],
   "source": [
    "newtable = titanic.groupby('Survived')['Fare'].agg(['count'])\n",
    "\n",
    "newtable.rename(columns={'count': 'Count'}, inplace= True)\n",
    "# plot \n",
    "ax = newtable.plot.bar()\n",
    "ax.set(title= 'Overall Survivability', xlabel='Survived', ylabel= 'Number of Passengers',)\n",
    "# Fix rotation in the x-ticks\n",
    "ax.set_xticklabels(('No', 'Yes'), rotation=0);\n",
    "\n",
    "# Overall, how many people survivived and how many didn't?"
   ]
  },
  {
   "cell_type": "code",
   "execution_count": 60,
   "metadata": {
    "scrolled": true
   },
   "outputs": [
    {
     "data": {
      "text/html": [
       "<div>\n",
       "<style>\n",
       "    .dataframe thead tr:only-child th {\n",
       "        text-align: right;\n",
       "    }\n",
       "\n",
       "    .dataframe thead th {\n",
       "        text-align: left;\n",
       "    }\n",
       "\n",
       "    .dataframe tbody tr th {\n",
       "        vertical-align: top;\n",
       "    }\n",
       "</style>\n",
       "<table border=\"1\" class=\"dataframe\">\n",
       "  <thead>\n",
       "    <tr style=\"text-align: right;\">\n",
       "      <th></th>\n",
       "      <th>PassengerId</th>\n",
       "      <th>Survived</th>\n",
       "      <th>Pclass</th>\n",
       "      <th>Age</th>\n",
       "      <th>SibSp</th>\n",
       "      <th>Parch</th>\n",
       "      <th>Fare</th>\n",
       "    </tr>\n",
       "  </thead>\n",
       "  <tbody>\n",
       "    <tr>\n",
       "      <th>PassengerId</th>\n",
       "      <td>1.000000</td>\n",
       "      <td>-0.005007</td>\n",
       "      <td>-0.035144</td>\n",
       "      <td>0.036847</td>\n",
       "      <td>-0.057527</td>\n",
       "      <td>-0.001652</td>\n",
       "      <td>0.012658</td>\n",
       "    </tr>\n",
       "    <tr>\n",
       "      <th>Survived</th>\n",
       "      <td>-0.005007</td>\n",
       "      <td>1.000000</td>\n",
       "      <td>-0.338481</td>\n",
       "      <td>-0.077221</td>\n",
       "      <td>-0.035322</td>\n",
       "      <td>0.081629</td>\n",
       "      <td>0.257307</td>\n",
       "    </tr>\n",
       "    <tr>\n",
       "      <th>Pclass</th>\n",
       "      <td>-0.035144</td>\n",
       "      <td>-0.338481</td>\n",
       "      <td>1.000000</td>\n",
       "      <td>-0.369226</td>\n",
       "      <td>0.083081</td>\n",
       "      <td>0.018443</td>\n",
       "      <td>-0.549500</td>\n",
       "    </tr>\n",
       "    <tr>\n",
       "      <th>Age</th>\n",
       "      <td>0.036847</td>\n",
       "      <td>-0.077221</td>\n",
       "      <td>-0.369226</td>\n",
       "      <td>1.000000</td>\n",
       "      <td>-0.308247</td>\n",
       "      <td>-0.189119</td>\n",
       "      <td>0.096067</td>\n",
       "    </tr>\n",
       "    <tr>\n",
       "      <th>SibSp</th>\n",
       "      <td>-0.057527</td>\n",
       "      <td>-0.035322</td>\n",
       "      <td>0.083081</td>\n",
       "      <td>-0.308247</td>\n",
       "      <td>1.000000</td>\n",
       "      <td>0.414838</td>\n",
       "      <td>0.159651</td>\n",
       "    </tr>\n",
       "    <tr>\n",
       "      <th>Parch</th>\n",
       "      <td>-0.001652</td>\n",
       "      <td>0.081629</td>\n",
       "      <td>0.018443</td>\n",
       "      <td>-0.189119</td>\n",
       "      <td>0.414838</td>\n",
       "      <td>1.000000</td>\n",
       "      <td>0.216225</td>\n",
       "    </tr>\n",
       "    <tr>\n",
       "      <th>Fare</th>\n",
       "      <td>0.012658</td>\n",
       "      <td>0.257307</td>\n",
       "      <td>-0.549500</td>\n",
       "      <td>0.096067</td>\n",
       "      <td>0.159651</td>\n",
       "      <td>0.216225</td>\n",
       "      <td>1.000000</td>\n",
       "    </tr>\n",
       "  </tbody>\n",
       "</table>\n",
       "</div>"
      ],
      "text/plain": [
       "             PassengerId  Survived    Pclass       Age     SibSp     Parch  \\\n",
       "PassengerId     1.000000 -0.005007 -0.035144  0.036847 -0.057527 -0.001652   \n",
       "Survived       -0.005007  1.000000 -0.338481 -0.077221 -0.035322  0.081629   \n",
       "Pclass         -0.035144 -0.338481  1.000000 -0.369226  0.083081  0.018443   \n",
       "Age             0.036847 -0.077221 -0.369226  1.000000 -0.308247 -0.189119   \n",
       "SibSp          -0.057527 -0.035322  0.083081 -0.308247  1.000000  0.414838   \n",
       "Parch          -0.001652  0.081629  0.018443 -0.189119  0.414838  1.000000   \n",
       "Fare            0.012658  0.257307 -0.549500  0.096067  0.159651  0.216225   \n",
       "\n",
       "                 Fare  \n",
       "PassengerId  0.012658  \n",
       "Survived     0.257307  \n",
       "Pclass      -0.549500  \n",
       "Age          0.096067  \n",
       "SibSp        0.159651  \n",
       "Parch        0.216225  \n",
       "Fare         1.000000  "
      ]
     },
     "execution_count": 60,
     "metadata": {},
     "output_type": "execute_result"
    }
   ],
   "source": [
    "# What factors might correlate with survival?\n",
    "correlations = titanic.corr()\n",
    "correlations"
   ]
  },
  {
   "cell_type": "code",
   "execution_count": 61,
   "metadata": {},
   "outputs": [
    {
     "data": {
      "text/html": [
       "<div>\n",
       "<style>\n",
       "    .dataframe thead tr:only-child th {\n",
       "        text-align: right;\n",
       "    }\n",
       "\n",
       "    .dataframe thead th {\n",
       "        text-align: left;\n",
       "    }\n",
       "\n",
       "    .dataframe tbody tr th {\n",
       "        vertical-align: top;\n",
       "    }\n",
       "</style>\n",
       "<table border=\"1\" class=\"dataframe\">\n",
       "  <thead>\n",
       "    <tr style=\"text-align: right;\">\n",
       "      <th></th>\n",
       "      <th>PassengerId</th>\n",
       "      <th>Survived</th>\n",
       "      <th>Pclass</th>\n",
       "      <th>Age</th>\n",
       "      <th>SibSp</th>\n",
       "      <th>Parch</th>\n",
       "      <th>Fare</th>\n",
       "    </tr>\n",
       "  </thead>\n",
       "  <tbody>\n",
       "    <tr>\n",
       "      <th>PassengerId</th>\n",
       "      <td>1.0</td>\n",
       "      <td>NaN</td>\n",
       "      <td>NaN</td>\n",
       "      <td>NaN</td>\n",
       "      <td>NaN</td>\n",
       "      <td>NaN</td>\n",
       "      <td>NaN</td>\n",
       "    </tr>\n",
       "    <tr>\n",
       "      <th>Survived</th>\n",
       "      <td>NaN</td>\n",
       "      <td>1.000000</td>\n",
       "      <td>-0.338481</td>\n",
       "      <td>NaN</td>\n",
       "      <td>NaN</td>\n",
       "      <td>NaN</td>\n",
       "      <td>0.257307</td>\n",
       "    </tr>\n",
       "    <tr>\n",
       "      <th>Pclass</th>\n",
       "      <td>NaN</td>\n",
       "      <td>-0.338481</td>\n",
       "      <td>1.000000</td>\n",
       "      <td>-0.369226</td>\n",
       "      <td>NaN</td>\n",
       "      <td>NaN</td>\n",
       "      <td>-0.549500</td>\n",
       "    </tr>\n",
       "    <tr>\n",
       "      <th>Age</th>\n",
       "      <td>NaN</td>\n",
       "      <td>NaN</td>\n",
       "      <td>-0.369226</td>\n",
       "      <td>1.000000</td>\n",
       "      <td>-0.308247</td>\n",
       "      <td>NaN</td>\n",
       "      <td>NaN</td>\n",
       "    </tr>\n",
       "    <tr>\n",
       "      <th>SibSp</th>\n",
       "      <td>NaN</td>\n",
       "      <td>NaN</td>\n",
       "      <td>NaN</td>\n",
       "      <td>-0.308247</td>\n",
       "      <td>1.000000</td>\n",
       "      <td>0.414838</td>\n",
       "      <td>NaN</td>\n",
       "    </tr>\n",
       "    <tr>\n",
       "      <th>Parch</th>\n",
       "      <td>NaN</td>\n",
       "      <td>NaN</td>\n",
       "      <td>NaN</td>\n",
       "      <td>NaN</td>\n",
       "      <td>0.414838</td>\n",
       "      <td>1.000000</td>\n",
       "      <td>0.216225</td>\n",
       "    </tr>\n",
       "    <tr>\n",
       "      <th>Fare</th>\n",
       "      <td>NaN</td>\n",
       "      <td>0.257307</td>\n",
       "      <td>-0.549500</td>\n",
       "      <td>NaN</td>\n",
       "      <td>NaN</td>\n",
       "      <td>0.216225</td>\n",
       "      <td>1.000000</td>\n",
       "    </tr>\n",
       "  </tbody>\n",
       "</table>\n",
       "</div>"
      ],
      "text/plain": [
       "             PassengerId  Survived    Pclass       Age     SibSp     Parch  \\\n",
       "PassengerId          1.0       NaN       NaN       NaN       NaN       NaN   \n",
       "Survived             NaN  1.000000 -0.338481       NaN       NaN       NaN   \n",
       "Pclass               NaN -0.338481  1.000000 -0.369226       NaN       NaN   \n",
       "Age                  NaN       NaN -0.369226  1.000000 -0.308247       NaN   \n",
       "SibSp                NaN       NaN       NaN -0.308247  1.000000  0.414838   \n",
       "Parch                NaN       NaN       NaN       NaN  0.414838  1.000000   \n",
       "Fare                 NaN  0.257307 -0.549500       NaN       NaN  0.216225   \n",
       "\n",
       "                 Fare  \n",
       "PassengerId       NaN  \n",
       "Survived     0.257307  \n",
       "Pclass      -0.549500  \n",
       "Age               NaN  \n",
       "SibSp             NaN  \n",
       "Parch        0.216225  \n",
       "Fare         1.000000  "
      ]
     },
     "execution_count": 61,
     "metadata": {},
     "output_type": "execute_result"
    }
   ],
   "source": [
    "# What if we want to look at only the highest correlated variables? \n",
    "highestcorr = correlations[(abs(correlations)>=.2)]\n",
    "highestcorr"
   ]
  },
  {
   "cell_type": "markdown",
   "metadata": {},
   "source": [
    "Note: \n",
    "Passenger class and Fare are the top items correlated with Survival. \n",
    "    -This may mean that the higher class your fare, the more likely you were to be close to an emergency exit route \n",
    "\n",
    "Age and Passenger class are inversely correlated. As one increases, the other decreases. Since the highest class is the lowest number, this means that Age and Passenger class are positively correlated in that as Age increases, you're more likely to have a better Passenger class. \n",
    "\n",
    "\n",
    "\n"
   ]
  },
  {
   "cell_type": "code",
   "execution_count": 62,
   "metadata": {},
   "outputs": [
    {
     "name": "stdout",
     "output_type": "stream",
     "text": [
      "Counts\n",
      "male      577\n",
      "female    314\n",
      "Name: Sex, dtype: int64\n"
     ]
    },
    {
     "data": {
      "image/png": "[encoded data removed]",
      "text/plain": [
       "<matplotlib.figure.Figure at 0x11eb4a0d0>"
      ]
     },
     "metadata": {},
     "output_type": "display_data"
    }
   ],
   "source": [
    "# What was the ship's breakdown by sex?\n",
    "# primarily males \n",
    "\n",
    "table = titanic.Sex.value_counts()\n",
    "print \"Counts\"\n",
    "print titanic.Sex.value_counts()\n",
    "\n",
    "#titanic.Sex.value_counts().plot(kind='bar')\n",
    "\n",
    "# plot \n",
    "ax = table.plot.bar()\n",
    "ax.set(title= 'Ship Breakdown by Sex', xlabel='Gender', ylabel= 'Number of Passengers',)\n",
    "# Fix rotation in the x-ticks\n",
    "ax.set_xticklabels(ax.get_xmajorticklabels(), rotation=0);\n"
   ]
  },
  {
   "cell_type": "markdown",
   "metadata": {},
   "source": [
    "## Question 1: Does sex help predict survival?"
   ]
  },
  {
   "cell_type": "markdown",
   "metadata": {},
   "source": [
    "What if we break this down by whether or not they survived?"
   ]
  },
  {
   "cell_type": "code",
   "execution_count": 63,
   "metadata": {},
   "outputs": [
    {
     "data": {
      "image/png": "[encoded data removed]",
      "text/plain": [
       "<matplotlib.figure.Figure at 0x11ed50510>"
      ]
     },
     "metadata": {},
     "output_type": "display_data"
    }
   ],
   "source": [
    "table = titanic.groupby('Sex')['Survived'].agg(['count', 'sum'])\n",
    "\n",
    "table.rename(columns={'count':'All', 'sum':'Survived'}, inplace= True)\n",
    "\n",
    "# plot \n",
    "ax = table.plot.bar()\n",
    "ax.set(title= 'Gender Survivability', xlabel='Gender', ylabel= 'Number of Passengers',)\n",
    "# Fix rotation in the x-ticks\n",
    "ax.set_xticklabels(ax.get_xmajorticklabels(), rotation=0);"
   ]
  },
  {
   "cell_type": "code",
   "execution_count": 64,
   "metadata": {
    "collapsed": true
   },
   "outputs": [],
   "source": [
    "#grouping the data by sex and whether or not they survived \n",
    "survivalbysex = titanic.groupby(['Sex','Survived'], as_index= False)\n",
    "\n",
    "#print survivalbysex.groups\n",
    "#groupedbysex['female'].describe\n",
    "\n"
   ]
  },
  {
   "cell_type": "code",
   "execution_count": 65,
   "metadata": {},
   "outputs": [
    {
     "name": "stdout",
     "output_type": "stream",
     "text": [
      "Sex     Survived\n",
      "female  0            81\n",
      "        1           233\n",
      "male    0           468\n",
      "        1           109\n",
      "dtype: int64\n",
      "('Female Survival rate = ', 0.7420382165605095)\n",
      "('Male Survival rate = ', 0.18890814558058924)\n"
     ]
    }
   ],
   "source": [
    "print survivalbysex.apply(len)\n",
    "femalerates= survivalbysex.apply(len)['female']\n",
    "malerates= survivalbysex.apply(len)['male']\n",
    "\n",
    "print (\"Female Survival rate = \", titanic.query(\"Sex=='female'\")['Survived'].mean()) \n",
    "print (\"Male Survival rate = \", titanic.query(\"Sex=='male'\")['Survived'].mean())\n",
    "\n",
    "\n",
    "#table = survivalbysex.apply(len)\n",
    "\n",
    "\n",
    "\n",
    "# plot \n",
    "#ax = table.plot.bar(color =('blue', 'orange', 'blue', 'orange'))\n",
    "#ax.set(title= 'Survival Breakdown by Sex', xlabel='Gender, Survived', ylabel= 'Number of Passengers')\n",
    "# Fix rotation in the x-ticks\n",
    "#ax.set_xticklabels((('Female', 'No'), ('Female', 'Yes'), ('Male', 'No'), ('Male', 'Yes')), rotation=0) ;\n",
    "\n"
   ]
  },
  {
   "cell_type": "markdown",
   "metadata": {},
   "source": [
    "Observations: \n",
    "Although there were a greater number of males onboard overall, more females survived the sinking than males\n",
    "Survival rates: \n",
    "Females: 74%\n",
    "Males: 18.9%"
   ]
  },
  {
   "cell_type": "markdown",
   "metadata": {},
   "source": [
    "## Question 2: As the saying goes, are women and children really first?\n"
   ]
  },
  {
   "cell_type": "code",
   "execution_count": 66,
   "metadata": {
    "collapsed": true
   },
   "outputs": [],
   "source": [
    "# Need to create classes of age groups \n",
    "# 0-5 toddlers \n",
    "# 5-10 children \n",
    "# 11-18 teen \n",
    "# 19-25 young adult \n",
    "# 26-35 adult \n",
    "# 35-45 older adult \n",
    "# 46-60 before retirement \n",
    "# 60-100 elderly \n",
    "\n",
    "# Need to define a function that will take in the ages and provide an age classification \n",
    "def ageclas(ages): \n",
    "    #print \"LIST START HERE\", alist\n",
    "    alist= pd.DataFrame()\n",
    "    i = ages\n",
    "    #print passids\n",
    "    if i<=5: \n",
    "        return 'toddler' \n",
    "    elif i<=10: \n",
    "        return 'children' \n",
    "    elif i<=18:\n",
    "        return 'teen' \n",
    "    elif i<=25: \n",
    "        return 'young adult'\n",
    "    elif i<=35: \n",
    "        return 'adult'\n",
    "    elif i<=45: \n",
    "        return 'other adult'\n",
    "    elif i<=60: \n",
    "        return 'before retirement'\n",
    "    elif i<=100: \n",
    "        return 'elderly'\n",
    "    else:\n",
    "        return 'No Age'\n",
    "\n"
   ]
  },
  {
   "cell_type": "code",
   "execution_count": 67,
   "metadata": {
    "collapsed": true
   },
   "outputs": [],
   "source": [
    "#create dataframe with PassengerId as index \n",
    "\n",
    "indexedt= titanic.set_index(['PassengerId'])\n",
    "\n",
    "#apply the AgeClass function to add a new column with the information \n",
    "AgeClass= indexedt.loc[:,'Age'].apply(ageclas)\n",
    "indexedt['AgeClass']=AgeClass\n",
    "\n"
   ]
  },
  {
   "cell_type": "code",
   "execution_count": 68,
   "metadata": {},
   "outputs": [
    {
     "data": {
      "image/png": "[encoded data removed]",
      "text/plain": [
       "<matplotlib.figure.Figure at 0x11efb00d0>"
      ]
     },
     "metadata": {},
     "output_type": "display_data"
    }
   ],
   "source": [
    "# Taking another look at the breakdown of the ship using the AgeClass\n",
    "table = indexedt.AgeClass.value_counts()\n",
    "#indexedt.AgeClass.value_counts().plot.bar()#(kind='bar')\n",
    "\n",
    "# plot \n",
    "ax = table.plot.bar()\n",
    "ax.set(title= 'Ship Breakdown by Age', xlabel='Age Class', ylabel= 'Number of Passengers',)\n",
    "# Fix rotation in the x-ticks\n",
    "ax.set_xticklabels(ax.get_xmajorticklabels());\n",
    "\n"
   ]
  },
  {
   "cell_type": "markdown",
   "metadata": {},
   "source": [
    "Here, we note that children and elderly are of the smallest groups aboard "
   ]
  },
  {
   "cell_type": "code",
   "execution_count": 69,
   "metadata": {
    "collapsed": true
   },
   "outputs": [],
   "source": [
    "#Now, we want to see survival rates by Age using our newly designated AgeClass\n",
    "#Grouping the data by AgeClass so we can explore \n",
    "groupedages= indexedt.groupby('AgeClass')\n"
   ]
  },
  {
   "cell_type": "code",
   "execution_count": 70,
   "metadata": {},
   "outputs": [
    {
     "name": "stdout",
     "output_type": "stream",
     "text": [
      "Count by AgeClass\n",
      "\n",
      "AgeClass\n",
      "No Age               177\n",
      "adult                196\n",
      "before retirement     81\n",
      "children              20\n",
      "elderly               22\n",
      "other adult          114\n",
      "teen                  75\n",
      "toddler               44\n",
      "young adult          162\n",
      "Name: Survived, dtype: int64\n",
      "\n",
      "Means of each column...Nothing fascinating\n",
      "\n",
      "                   Survived    Pclass        Age     SibSp     Parch  \\\n",
      "AgeClass                                                               \n",
      "No Age             0.293785  2.598870        NaN  0.564972  0.180791   \n",
      "adult              0.423469  2.295918  30.303571  0.316327  0.173469   \n",
      "before retirement  0.407407  1.567901  51.648148  0.358025  0.271605   \n",
      "children           0.350000  2.800000   8.150000  2.150000  1.550000   \n",
      "elderly            0.227273  1.590909  66.022727  0.136364  0.272727   \n",
      "other adult        0.394737  2.026316  39.986842  0.377193  0.640351   \n",
      "teen               0.426667  2.493333  16.220000  0.760000  0.520000   \n",
      "toddler            0.704545  2.568182   2.503864  1.704545  1.363636   \n",
      "young adult        0.333333  2.456790  22.108025  0.333333  0.265432   \n",
      "\n",
      "                        Fare  \n",
      "AgeClass                      \n",
      "No Age             22.158567  \n",
      "adult              30.592323  \n",
      "before retirement  45.332410  \n",
      "children           28.028540  \n",
      "elderly            41.371214  \n",
      "other adult        43.497440  \n",
      "teen               34.263948  \n",
      "toddler            31.528030  \n",
      "young adult        29.119675  \n",
      "\n",
      "Means of Survival (ha)\n"
     ]
    },
    {
     "data": {
      "image/png": "[encoded data removed]",
      "text/plain": [
       "<matplotlib.figure.Figure at 0x11f1a0710>"
      ]
     },
     "metadata": {},
     "output_type": "display_data"
    }
   ],
   "source": [
    "print \"Count by AgeClass\" # relates to the above histogram\n",
    "print \"\"\n",
    "print groupedages.count()['Survived']\n",
    "print \"\"\n",
    "print \"Means of each column...Nothing fascinating\"\n",
    "print \"\"\n",
    "print groupedages.mean() #after exploring the means a bit, there's not much else interesting besides the Survival \n",
    "print \"\"\n",
    "print \"Means of Survival (ha)\" #the mean of each should be equal to the % of each group that survived \n",
    "\n",
    "table = groupedages['Survived'].mean()\n",
    "\n",
    "# plot \n",
    "ax = table.plot.bar()\n",
    "ax.set(title= 'Means of Survival', xlabel='Age Class', ylabel= 'Rate of Survival',)\n",
    "# Fix rotation in the x-ticks\n",
    "ax.set_xticklabels(ax.get_xmajorticklabels());\n",
    "\n"
   ]
  },
  {
   "cell_type": "markdown",
   "metadata": {},
   "source": [
    "It seems that the AgeClass most likely to survive were toddlers, giving some truth to the latter half of the saying \"Women and Children first\". "
   ]
  },
  {
   "cell_type": "markdown",
   "metadata": {},
   "source": [
    "#If we wanted to dive into this even further, we could look at any relationships between Age and Gender with surival \n",
    "#we'll save this for another time\n",
    "#creating a new object grouped by Sex, Survial, and Age Class \n",
    "#new = indexedt.groupby(['Sex','Survived','AgeClass'], as_index= False)\n",
    "\n",
    "#Now, let's look at the breakdown we created\n",
    "#print new.apply(len)\n"
   ]
  },
  {
   "cell_type": "markdown",
   "metadata": {},
   "source": [
    "## Question 3: If we group survivors and non-survivors into two different pools and examine them, will we find any differences? \n",
    "\n",
    "Note, a few Histograms start below but are unnecessary to reveal the relationship between age, gender, and survival. For that, I also used the survival rates by gender for each AgeClass in a bar chart "
   ]
  },
  {
   "cell_type": "code",
   "execution_count": 71,
   "metadata": {
    "collapsed": true
   },
   "outputs": [],
   "source": [
    "# creating groups for survivors and people that weren't so lucky\n",
    "survivors= indexedt[indexedt['Survived']>0]\n",
    "unlucky= indexedt[indexedt['Survived']<1]"
   ]
  },
  {
   "cell_type": "code",
   "execution_count": 72,
   "metadata": {},
   "outputs": [
    {
     "data": {
      "text/html": [
       "<div>\n",
       "<style>\n",
       "    .dataframe thead tr:only-child th {\n",
       "        text-align: right;\n",
       "    }\n",
       "\n",
       "    .dataframe thead th {\n",
       "        text-align: left;\n",
       "    }\n",
       "\n",
       "    .dataframe tbody tr th {\n",
       "        vertical-align: top;\n",
       "    }\n",
       "</style>\n",
       "<table border=\"1\" class=\"dataframe\">\n",
       "  <thead>\n",
       "    <tr style=\"text-align: right;\">\n",
       "      <th></th>\n",
       "      <th>Survived</th>\n",
       "      <th>Pclass</th>\n",
       "      <th>Age</th>\n",
       "      <th>SibSp</th>\n",
       "      <th>Parch</th>\n",
       "      <th>Fare</th>\n",
       "    </tr>\n",
       "  </thead>\n",
       "  <tbody>\n",
       "    <tr>\n",
       "      <th>count</th>\n",
       "      <td>891.000000</td>\n",
       "      <td>891.000000</td>\n",
       "      <td>714.000000</td>\n",
       "      <td>891.000000</td>\n",
       "      <td>891.000000</td>\n",
       "      <td>891.000000</td>\n",
       "    </tr>\n",
       "    <tr>\n",
       "      <th>mean</th>\n",
       "      <td>0.383838</td>\n",
       "      <td>2.308642</td>\n",
       "      <td>29.699118</td>\n",
       "      <td>0.523008</td>\n",
       "      <td>0.381594</td>\n",
       "      <td>32.204208</td>\n",
       "    </tr>\n",
       "    <tr>\n",
       "      <th>std</th>\n",
       "      <td>0.486592</td>\n",
       "      <td>0.836071</td>\n",
       "      <td>14.526497</td>\n",
       "      <td>1.102743</td>\n",
       "      <td>0.806057</td>\n",
       "      <td>49.693429</td>\n",
       "    </tr>\n",
       "    <tr>\n",
       "      <th>min</th>\n",
       "      <td>0.000000</td>\n",
       "      <td>1.000000</td>\n",
       "      <td>0.420000</td>\n",
       "      <td>0.000000</td>\n",
       "      <td>0.000000</td>\n",
       "      <td>0.000000</td>\n",
       "    </tr>\n",
       "    <tr>\n",
       "      <th>25%</th>\n",
       "      <td>0.000000</td>\n",
       "      <td>2.000000</td>\n",
       "      <td>20.125000</td>\n",
       "      <td>0.000000</td>\n",
       "      <td>0.000000</td>\n",
       "      <td>7.910400</td>\n",
       "    </tr>\n",
       "    <tr>\n",
       "      <th>50%</th>\n",
       "      <td>0.000000</td>\n",
       "      <td>3.000000</td>\n",
       "      <td>28.000000</td>\n",
       "      <td>0.000000</td>\n",
       "      <td>0.000000</td>\n",
       "      <td>14.454200</td>\n",
       "    </tr>\n",
       "    <tr>\n",
       "      <th>75%</th>\n",
       "      <td>1.000000</td>\n",
       "      <td>3.000000</td>\n",
       "      <td>38.000000</td>\n",
       "      <td>1.000000</td>\n",
       "      <td>0.000000</td>\n",
       "      <td>31.000000</td>\n",
       "    </tr>\n",
       "    <tr>\n",
       "      <th>max</th>\n",
       "      <td>1.000000</td>\n",
       "      <td>3.000000</td>\n",
       "      <td>80.000000</td>\n",
       "      <td>8.000000</td>\n",
       "      <td>6.000000</td>\n",
       "      <td>512.329200</td>\n",
       "    </tr>\n",
       "  </tbody>\n",
       "</table>\n",
       "</div>"
      ],
      "text/plain": [
       "         Survived      Pclass         Age       SibSp       Parch        Fare\n",
       "count  891.000000  891.000000  714.000000  891.000000  891.000000  891.000000\n",
       "mean     0.383838    2.308642   29.699118    0.523008    0.381594   32.204208\n",
       "std      0.486592    0.836071   14.526497    1.102743    0.806057   49.693429\n",
       "min      0.000000    1.000000    0.420000    0.000000    0.000000    0.000000\n",
       "25%      0.000000    2.000000   20.125000    0.000000    0.000000    7.910400\n",
       "50%      0.000000    3.000000   28.000000    0.000000    0.000000   14.454200\n",
       "75%      1.000000    3.000000   38.000000    1.000000    0.000000   31.000000\n",
       "max      1.000000    3.000000   80.000000    8.000000    6.000000  512.329200"
      ]
     },
     "execution_count": 72,
     "metadata": {},
     "output_type": "execute_result"
    }
   ],
   "source": [
    "indexedt.describe() \n"
   ]
  },
  {
   "cell_type": "code",
   "execution_count": 73,
   "metadata": {},
   "outputs": [
    {
     "data": {
      "text/html": [
       "<div>\n",
       "<style>\n",
       "    .dataframe thead tr:only-child th {\n",
       "        text-align: right;\n",
       "    }\n",
       "\n",
       "    .dataframe thead th {\n",
       "        text-align: left;\n",
       "    }\n",
       "\n",
       "    .dataframe tbody tr th {\n",
       "        vertical-align: top;\n",
       "    }\n",
       "</style>\n",
       "<table border=\"1\" class=\"dataframe\">\n",
       "  <thead>\n",
       "    <tr style=\"text-align: right;\">\n",
       "      <th></th>\n",
       "      <th>Survived</th>\n",
       "      <th>Pclass</th>\n",
       "      <th>Age</th>\n",
       "      <th>SibSp</th>\n",
       "      <th>Parch</th>\n",
       "      <th>Fare</th>\n",
       "    </tr>\n",
       "  </thead>\n",
       "  <tbody>\n",
       "    <tr>\n",
       "      <th>count</th>\n",
       "      <td>342.0</td>\n",
       "      <td>342.000000</td>\n",
       "      <td>290.000000</td>\n",
       "      <td>342.000000</td>\n",
       "      <td>342.000000</td>\n",
       "      <td>342.000000</td>\n",
       "    </tr>\n",
       "    <tr>\n",
       "      <th>mean</th>\n",
       "      <td>1.0</td>\n",
       "      <td>1.950292</td>\n",
       "      <td>28.343690</td>\n",
       "      <td>0.473684</td>\n",
       "      <td>0.464912</td>\n",
       "      <td>48.395408</td>\n",
       "    </tr>\n",
       "    <tr>\n",
       "      <th>std</th>\n",
       "      <td>0.0</td>\n",
       "      <td>0.863321</td>\n",
       "      <td>14.950952</td>\n",
       "      <td>0.708688</td>\n",
       "      <td>0.771712</td>\n",
       "      <td>66.596998</td>\n",
       "    </tr>\n",
       "    <tr>\n",
       "      <th>min</th>\n",
       "      <td>1.0</td>\n",
       "      <td>1.000000</td>\n",
       "      <td>0.420000</td>\n",
       "      <td>0.000000</td>\n",
       "      <td>0.000000</td>\n",
       "      <td>0.000000</td>\n",
       "    </tr>\n",
       "    <tr>\n",
       "      <th>25%</th>\n",
       "      <td>1.0</td>\n",
       "      <td>1.000000</td>\n",
       "      <td>19.000000</td>\n",
       "      <td>0.000000</td>\n",
       "      <td>0.000000</td>\n",
       "      <td>12.475000</td>\n",
       "    </tr>\n",
       "    <tr>\n",
       "      <th>50%</th>\n",
       "      <td>1.0</td>\n",
       "      <td>2.000000</td>\n",
       "      <td>28.000000</td>\n",
       "      <td>0.000000</td>\n",
       "      <td>0.000000</td>\n",
       "      <td>26.000000</td>\n",
       "    </tr>\n",
       "    <tr>\n",
       "      <th>75%</th>\n",
       "      <td>1.0</td>\n",
       "      <td>3.000000</td>\n",
       "      <td>36.000000</td>\n",
       "      <td>1.000000</td>\n",
       "      <td>1.000000</td>\n",
       "      <td>57.000000</td>\n",
       "    </tr>\n",
       "    <tr>\n",
       "      <th>max</th>\n",
       "      <td>1.0</td>\n",
       "      <td>3.000000</td>\n",
       "      <td>80.000000</td>\n",
       "      <td>4.000000</td>\n",
       "      <td>5.000000</td>\n",
       "      <td>512.329200</td>\n",
       "    </tr>\n",
       "  </tbody>\n",
       "</table>\n",
       "</div>"
      ],
      "text/plain": [
       "       Survived      Pclass         Age       SibSp       Parch        Fare\n",
       "count     342.0  342.000000  290.000000  342.000000  342.000000  342.000000\n",
       "mean        1.0    1.950292   28.343690    0.473684    0.464912   48.395408\n",
       "std         0.0    0.863321   14.950952    0.708688    0.771712   66.596998\n",
       "min         1.0    1.000000    0.420000    0.000000    0.000000    0.000000\n",
       "25%         1.0    1.000000   19.000000    0.000000    0.000000   12.475000\n",
       "50%         1.0    2.000000   28.000000    0.000000    0.000000   26.000000\n",
       "75%         1.0    3.000000   36.000000    1.000000    1.000000   57.000000\n",
       "max         1.0    3.000000   80.000000    4.000000    5.000000  512.329200"
      ]
     },
     "execution_count": 73,
     "metadata": {},
     "output_type": "execute_result"
    }
   ],
   "source": [
    "survivors.describe()"
   ]
  },
  {
   "cell_type": "markdown",
   "metadata": {},
   "source": [
    "Above we notice that the mean for fare is higher in the surviving group and the mean for Pclass is also lower. This could mean that across other variables, the surviving class is more likely to be wealthier as they paid a higher fare and were more likely to be of the upper class. If we had a map of the Titanic data, we could see if the higher class cabins were located closer to life vessels. Earlier we also found that Passenger Class and Fare were the highest correlated numerical variables. "
   ]
  },
  {
   "cell_type": "code",
   "execution_count": 74,
   "metadata": {},
   "outputs": [
    {
     "data": {
      "text/plain": [
       "[<matplotlib.text.Text at 0x11f2db250>,\n",
       " <matplotlib.text.Text at 0x11f1c0d90>,\n",
       " <matplotlib.text.Text at 0x11f310f90>]"
      ]
     },
     "execution_count": 74,
     "metadata": {},
     "output_type": "execute_result"
    },
    {
     "data": {
      "image/png": "[encoded data removed]",
      "text/plain": [
       "<matplotlib.figure.Figure at 0x11dbe05d0>"
      ]
     },
     "metadata": {},
     "output_type": "display_data"
    }
   ],
   "source": [
    "table = survivors['Age']\n",
    "#Note, this seems to automatically remove NaNs\n",
    "#survivors[survivors['Age']>0].hist('Age', bins=30)\n",
    "#code produces the same output \n",
    "# plot \n",
    "ax = table.plot.hist(bins = 30 )\n",
    "ax.set(title= 'Ship Survivors by Age', xlabel='Age', ylabel= 'Number of Survivors',)\n",
    "# Fix rotation in the x-ticks\n",
    "#ax.set_xticklabels(ax.get_xmajorticklabels());\n",
    "\n"
   ]
  },
  {
   "cell_type": "code",
   "execution_count": 75,
   "metadata": {},
   "outputs": [
    {
     "data": {
      "text/plain": [
       "[<matplotlib.text.Text at 0x11f482190>,\n",
       " <matplotlib.text.Text at 0x11f144410>,\n",
       " <matplotlib.text.Text at 0x11f1b9b50>]"
      ]
     },
     "execution_count": 75,
     "metadata": {},
     "output_type": "execute_result"
    },
    {
     "data": {
      "image/png": "[encoded data removed]",
      "text/plain": [
       "<matplotlib.figure.Figure at 0x11f4e5110>"
      ]
     },
     "metadata": {},
     "output_type": "display_data"
    }
   ],
   "source": [
    "# Above we note a high number of children and a gap inbetween ages 65 and 80\n",
    "# Could this mean many elderly persons could not make it off, or purposefully gave up their seats? \n",
    "#unlucky.hist('Age', bins=30)\n",
    "table = unlucky['Age']\n",
    "ax = table.plot.hist(bins = 30 )\n",
    "ax.set(title= 'Ship\\'s Unlucky by Age', xlabel='Age', ylabel= 'Count',)\n",
    "# Fix rotation in the x-ticks\n",
    "#ax.set_xticklabels(ax.get_xmajorticklabels());\n",
    "\n"
   ]
  },
  {
   "cell_type": "code",
   "execution_count": 76,
   "metadata": {},
   "outputs": [
    {
     "data": {
      "text/plain": [
       "[<matplotlib.text.Text at 0x11efb0150>,\n",
       " <matplotlib.text.Text at 0x11ef7c850>,\n",
       " <matplotlib.text.Text at 0x11eebf8d0>]"
      ]
     },
     "execution_count": 76,
     "metadata": {},
     "output_type": "execute_result"
    },
    {
     "data": {
      "image/png": "[encoded data removed]",
      "text/plain": [
       "<matplotlib.figure.Figure at 0x11f12aa90>"
      ]
     },
     "metadata": {},
     "output_type": "display_data"
    }
   ],
   "source": [
    "# Above we note the fewer amounts of persons under 20 and larger amounts of persons above 40 \n",
    "\n",
    "# And now the overall Ages again to compare\n",
    "#indexedt.hist('Age', bins=30)\n",
    "table = indexedt['Age']\n",
    "ax = table.plot.hist(bins = 30 )\n",
    "ax.set(title= 'Ship Passengers by Age', xlabel='Age', ylabel= 'Number of Passengers',)\n",
    "# Fix rotation in the x-ticks\n",
    "#ax.set_xticklabels(ax.get_xmajorticklabels());\n",
    "\n"
   ]
  },
  {
   "cell_type": "markdown",
   "metadata": {},
   "source": [
    "If we zoom in further on sex and age in relation to survival, will we see any patterns?"
   ]
  },
  {
   "cell_type": "code",
   "execution_count": 77,
   "metadata": {
    "collapsed": true
   },
   "outputs": [],
   "source": [
    "malesurvivors= survivors[survivors['Sex'] == 'male']\n",
    "maleunlucky= unlucky[unlucky['Sex'] == 'male']\n",
    "\n",
    "femalesurvivors= survivors[survivors['Sex'] == 'female']\n",
    "femaleunlucky= unlucky[unlucky['Sex'] == 'female']\n"
   ]
  },
  {
   "cell_type": "code",
   "execution_count": 78,
   "metadata": {},
   "outputs": [
    {
     "data": {
      "text/plain": [
       "[<matplotlib.text.Text at 0x11ef7ca10>,\n",
       " <matplotlib.text.Text at 0x11ef9ee50>,\n",
       " <matplotlib.text.Text at 0x11e814750>]"
      ]
     },
     "execution_count": 78,
     "metadata": {},
     "output_type": "execute_result"
    },
    {
     "data": {
      "image/png": "[encoded data removed]",
      "text/plain": [
       "<matplotlib.figure.Figure at 0x11f17e910>"
      ]
     },
     "metadata": {},
     "output_type": "display_data"
    }
   ],
   "source": [
    "#maleunlucky.hist('Age', bins = 30)\n",
    "\n",
    "table = maleunlucky['Age']\n",
    "ax = table.plot.hist(bins = 30 )\n",
    "ax.set(title= 'Ship\\'s Male Unlucky by Age', xlabel='Age', ylabel= 'Count',)\n",
    "\n"
   ]
  },
  {
   "cell_type": "code",
   "execution_count": 79,
   "metadata": {},
   "outputs": [
    {
     "data": {
      "text/plain": [
       "[<matplotlib.text.Text at 0x11ed259d0>,\n",
       " <matplotlib.text.Text at 0x11e7c4490>,\n",
       " <matplotlib.text.Text at 0x11f12b750>]"
      ]
     },
     "execution_count": 79,
     "metadata": {},
     "output_type": "execute_result"
    },
    {
     "data": {
      "image/png": "[encoded data removed]",
      "text/plain": [
       "<matplotlib.figure.Figure at 0x11f4e57d0>"
      ]
     },
     "metadata": {},
     "output_type": "display_data"
    }
   ],
   "source": [
    "# Above, we note again the same trends with most unlucky people being above age 20\n",
    "#malesurvivors.hist('Age', bins = 30)\n",
    "table = malesurvivors['Age']\n",
    "ax = table.plot.hist(bins = 30 )\n",
    "ax.set(title= 'Male Survivors by Age', xlabel='Age', ylabel= 'Number of Survivors',)\n",
    "\n"
   ]
  },
  {
   "cell_type": "code",
   "execution_count": 80,
   "metadata": {},
   "outputs": [
    {
     "data": {
      "text/plain": [
       "[<matplotlib.text.Text at 0x11ed3d650>,\n",
       " <matplotlib.text.Text at 0x11f03c350>,\n",
       " <matplotlib.text.Text at 0x11f642b50>]"
      ]
     },
     "execution_count": 80,
     "metadata": {},
     "output_type": "execute_result"
    },
    {
     "data": {
      "image/png": "[encoded data removed]",
      "text/plain": [
       "<matplotlib.figure.Figure at 0x11f4e5e10>"
      ]
     },
     "metadata": {},
     "output_type": "display_data"
    }
   ],
   "source": [
    "# Above we note the very few survivors above age 40 \n",
    "#femaleunlucky.hist('Age', bins = 30)\n",
    "table = femaleunlucky['Age']\n",
    "ax = table.plot.hist(bins = 30 , color = 'orange')\n",
    "ax.set(title= 'Ship\\'s Female Unlucky by Age', xlabel='Age', ylabel= 'Count',)\n",
    "\n"
   ]
  },
  {
   "cell_type": "code",
   "execution_count": 81,
   "metadata": {},
   "outputs": [
    {
     "data": {
      "text/plain": [
       "[<matplotlib.text.Text at 0x11f546b50>,\n",
       " <matplotlib.text.Text at 0x11f76d950>,\n",
       " <matplotlib.text.Text at 0x11f7a1cd0>]"
      ]
     },
     "execution_count": 81,
     "metadata": {},
     "output_type": "execute_result"
    },
    {
     "data": {
      "image/png": "[encoded data removed]",
      "text/plain": [
       "<matplotlib.figure.Figure at 0x11f1e2210>"
      ]
     },
     "metadata": {},
     "output_type": "display_data"
    }
   ],
   "source": [
    "# First we note the scale has drastically changed with a high of 6  \n",
    "#femalesurvivors.hist('Age', bins = 30)\n",
    "table = femalesurvivors['Age']\n",
    "ax = table.plot.hist(bins = 30, color = 'orange' )\n",
    "ax.set(title= 'Female Survivors by Age', xlabel='Age', ylabel= 'Number of Survivors')\n",
    "\n",
    "\n"
   ]
  },
  {
   "cell_type": "markdown",
   "metadata": {},
   "source": [
    "Next, we'll look at survival rates for each age class in by gender. This should be means of the survival column for each group. If we plot this into a bar chart, it should give us more insight in a simpler visual"
   ]
  },
  {
   "cell_type": "code",
   "execution_count": 82,
   "metadata": {},
   "outputs": [
    {
     "name": "stdout",
     "output_type": "stream",
     "text": [
      "Rates of Survival for Women\n"
     ]
    },
    {
     "data": {
      "image/png": "[encoded data removed]",
      "text/plain": [
       "<matplotlib.figure.Figure at 0x11f735ad0>"
      ]
     },
     "metadata": {},
     "output_type": "display_data"
    }
   ],
   "source": [
    "gendage= indexedt.groupby(['Sex','AgeClass'])\n",
    "print \"Rates of Survival for Women\"\n",
    "#gendage.mean()['Survived']['female'].plot(kind='bar')\n",
    "\n",
    "table = gendage.mean()['Survived']['female']\n",
    "\n",
    "# plot \n",
    "ax = table.plot.bar(color = 'orange')\n",
    "ax.set(title= 'Rates of Survival for women', xlabel='Age Class', ylabel= 'Rate of Survival',)\n",
    "# Fix rotation in the x-ticks\n",
    "ax.set_xticklabels(ax.get_xmajorticklabels());\n",
    "\n"
   ]
  },
  {
   "cell_type": "code",
   "execution_count": 83,
   "metadata": {},
   "outputs": [
    {
     "name": "stdout",
     "output_type": "stream",
     "text": [
      "Rates of Survival for Men\n"
     ]
    },
    {
     "data": {
      "image/png": "[encoded data removed]",
      "text/plain": [
       "<matplotlib.figure.Figure at 0x11fa3e050>"
      ]
     },
     "metadata": {},
     "output_type": "display_data"
    }
   ],
   "source": [
    "print \"Rates of Survival for Men\" \n",
    "#gendage.mean()['Survived']['male'].plot(kind='bar')\n",
    "\n",
    "table = gendage.mean()['Survived']['male']\n",
    "\n",
    "# plot \n",
    "ax = table.plot.bar()\n",
    "ax.set(title= 'Rates of Survival for men', xlabel='Age Class', ylabel= 'Rate of Survival',)\n",
    "# Fix rotation in the x-ticks\n",
    "ax.set_xticklabels(ax.get_xmajorticklabels());\n",
    "\n",
    "\n"
   ]
  },
  {
   "cell_type": "markdown",
   "metadata": {
    "collapsed": true
   },
   "source": [
    "In the above two bar charts, we note the much lower survival rate for men, but for toddlers and children, the rates are roughly the same. "
   ]
  },
  {
   "cell_type": "markdown",
   "metadata": {},
   "source": [
    "# Conclusion \n",
    "\n",
    "After initially exploring our dataset, we descovered that a significant amount of data was missing for the Cabin and Age variables. Upon further investigation, there was no discernable pattern to the missing data points. Because of this, we decided to leave the observations in as the other variables seemed to be sound and could contribute to our other analyses. We found no major errors in the data. Outliers did exist, but we chose to leave them in the dataset. Without further knowledge on the variable value meanings and the methods in which the data were recorded, we will not be able to definitively say we have removed all erroneous data. Further investigation was done only to explore questions raised, not to predict survival or establish cause/effect relationships (only correlations). \n",
    "\n",
    "Once we had checked the data for any potential errors, we decided to explore the relationship with various variables and survival to see if any correlated with survival rates. We posed 3 questions for further investigation.  \n",
    "\n",
    "    Question 1: Does Sex help predict Survival?\n",
    "\n",
    "    Question 2: As the saying goes, are Women and Children really first?\n",
    "\n",
    "    Question 3: If we group survivors and non-survivors into two different pools and examine them, will we find any differences? \n",
    "\n",
    "In conclusion to my data exploration: \n",
    "    \n",
    "    Sex did correlate with survival. Although there were more males on board, more women survived. \n",
    "\n",
    "    Rates of survival were higher for women and children, but also for the wealthier classes aboard. This may give some indication that there is truth to the saying \"Women and Children first\", with others being deprioritized for any lifeboats or perhaps volunteering to give up their spot. \n",
    "\n",
    "    Survivors were more likely to be of wealthier classes, young children, or elderly women while those less lucky were likely to be men over the age of 20. \n",
    "\n",
    "Overall, Sex, Age, and Class seemed to be the most important factors observed when looking at survival rates. "
   ]
  },
  {
   "cell_type": "markdown",
   "metadata": {
    "collapsed": true
   },
   "source": [
    "# Resources: \n",
    "https://stackoverflow.com/\n",
    "https://measuringu.com/handle-missing-data/\n",
    "https://www.quora.com/How-do-you-handle-missing-data-statistics-What-imputation-techniques-do-you-recommend-or-follow\n",
    "https://pandas.pydata.org/pandas-docs/stable/missing_data.html\n",
    "https://pandas.pydata.org/\n",
    "https://plot.ly/matplotlib/bar-charts/\n",
    "https://matplotlib.org/\n"
   ]
  },
  {
   "cell_type": "code",
   "execution_count": null,
   "metadata": {
    "collapsed": true
   },
   "outputs": [],
   "source": []
  }
 ],
 "metadata": {
  "kernelspec": {
   "display_name": "Python 2",
   "language": "python",
   "name": "python2"
  },
  "language_info": {
   "codemirror_mode": {
    "name": "ipython",
    "version": 2
   },
   "file_extension": ".py",
   "mimetype": "text/x-python",
   "name": "python",
   "nbconvert_exporter": "python",
   "pygments_lexer": "ipython2",
   "version": "2.7.6"
  }
 },
 "nbformat": 4,
 "nbformat_minor": 2
}
